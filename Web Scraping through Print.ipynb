{
 "cells": [
  {
   "cell_type": "code",
   "execution_count": 1,
   "id": "7fd63b9b-ea60-4a3b-8db3-92edde8141e2",
   "metadata": {
    "tags": []
   },
   "outputs": [
    {
     "name": "stdin",
     "output_type": "stream",
     "text": [
      "Right-click on the webpage, click on the print option, and then press Enter. \n"
     ]
    },
    {
     "name": "stdout",
     "output_type": "stream",
     "text": [
      "                          Appliance Minimum Maximum Standby  \\\n",
      "0    100W light bulb (Incandescent)    100W    100W      0W   \n",
      "1                    22 Inch LED TV     17W     17W    0.5W   \n",
      "2                     25\" colour TV    150W    150W     NaN   \n",
      "3                    3\" belt sander   1000W   1000W     NaN   \n",
      "4                    32 Inch LED TV     20W     60W      1W   \n",
      "..                              ...     ...     ...     ...   \n",
      "151                    WiFi Booster      1W      2W     NaN   \n",
      "152                     WiFi Router      4W     10W      4W   \n",
      "153          Window Air Conditioner    500W   1500W     NaN   \n",
      "154        Wine cooler (18 bottles)     83W     83W      0W   \n",
      "155                        Xbox One     50W    110W     14W   \n",
      "\n",
      "                                  Other Name(s) References Notes  \n",
      "0                                           NaN        [1]   NaN  \n",
      "1                                           NaN        NaN   NaN  \n",
      "2                                           NaN        NaN   NaN  \n",
      "3                                           NaN        NaN   NaN  \n",
      "4                                           NaN        NaN   NaN  \n",
      "..                                          ...        ...   ...  \n",
      "151  WiFi Repeater,WiFi Extender,Range Extender        NaN   NaN  \n",
      "152                                      Router        NaN   NaN  \n",
      "153                                   Window AC        NaN   NaN  \n",
      "154                                         NaN        [1]   NaN  \n",
      "155                                         NaN        NaN   NaN  \n",
      "\n",
      "[156 rows x 7 columns]\n",
      "Data saved successfully.\n"
     ]
    }
   ],
   "source": [
    "import time\n",
    "from selenium import webdriver\n",
    "from selenium.webdriver.chrome.options import Options\n",
    "from selenium.webdriver.common.by import By\n",
    "from selenium.webdriver.support.ui import WebDriverWait\n",
    "from selenium.webdriver.support import expected_conditions as EC\n",
    "from bs4 import BeautifulSoup\n",
    "import pandas as pd\n",
    "\n",
    "def scrape_page_after_print(url, webdriver_path, print_button_selector):\n",
    "    # Set up Chrome WebDriver\n",
    "    chrome_options = Options()\n",
    "    chrome_options.add_argument(f'--executable-path={webdriver_path}')\n",
    "    \n",
    "    with webdriver.Chrome(options=chrome_options) as driver:\n",
    "        # Open the webpage\n",
    "        driver.get(url)\n",
    "\n",
    "        # Instruct the user to right-click on the webpage and click on the print option\n",
    "        input(\"Right-click on the webpage, click on the print option, and then press Enter.\")\n",
    "\n",
    "        # Wait for the print button to be clickable\n",
    "        if print_button_selector:\n",
    "            print_button = WebDriverWait(driver, 30).until(\n",
    "                EC.element_to_be_clickable((By.CSS_SELECTOR, print_button_selector))\n",
    "            )\n",
    "\n",
    "            # Click on the print button\n",
    "            print_button.click()\n",
    "\n",
    "            # Wait for the user to manually print\n",
    "            print(\"Please manually print the page.\")\n",
    "            time.sleep(30)  # Adjust this time according to your needs\n",
    "\n",
    "        # Get the HTML source after the user clicks print\n",
    "        html_source = driver.page_source\n",
    "\n",
    "    return html_source\n",
    "\n",
    "def parse_and_save_data(html_source):\n",
    "    # Parse the HTML using BeautifulSoup\n",
    "    soup = BeautifulSoup(html_source, 'html.parser')\n",
    "\n",
    "    # Extract data based on the structure of the webpage\n",
    "    # Modify this part according to the structure of your target webpage\n",
    "    # Here, it assumes data is within a specific table with ID 'tblApp'\n",
    "    table = soup.find('table', id='tblApp')\n",
    "\n",
    "    if table:\n",
    "        # Convert the table into a pandas DataFrame\n",
    "        dataframe = pd.read_html(str(table))[0]\n",
    "\n",
    "        # Display the DataFrame\n",
    "        print(dataframe)\n",
    "\n",
    "        # Save the DataFrame to a CSV file or perform other actions as needed\n",
    "        dataframe.to_csv('output.csv', index=False)\n",
    "        print(\"Data saved successfully.\")\n",
    "    else:\n",
    "        print(\"Table with ID 'tblApp' not found on the webpage.\")\n",
    "\n",
    "# Replace 'your_print_button_selector' with the actual CSS selector for the print button on the webpage\n",
    "url = 'https://www.daftlogic.com/information-appliance-power-consumption.htm'\n",
    "webdriver_path = r'C:\\Users\\PMLS\\Downloads\\chromedriver_win32\\chromedriver.exe'\n",
    "print_button_selector = None  # Replace with the actual selector or set it to None\n",
    "\n",
    "# Capture HTML source after the user clicks print\n",
    "html_source = scrape_page_after_print(url, webdriver_path, print_button_selector)\n",
    "\n",
    "# Parse and save data\n",
    "if html_source:\n",
    "    \n",
    "    parse_and_save_data(html_source)\n"
   ]
  },
  {
   "cell_type": "code",
   "execution_count": null,
   "id": "168ce9e1-b0b7-4871-b41f-4bdacb5cfe13",
   "metadata": {},
   "outputs": [],
   "source": []
  }
 ],
 "metadata": {
  "kernelspec": {
   "display_name": "Python 3 (ipykernel)",
   "language": "python",
   "name": "python3"
  },
  "language_info": {
   "codemirror_mode": {
    "name": "ipython",
    "version": 3
   },
   "file_extension": ".py",
   "mimetype": "text/x-python",
   "name": "python",
   "nbconvert_exporter": "python",
   "pygments_lexer": "ipython3",
   "version": "3.11.5"
  }
 },
 "nbformat": 4,
 "nbformat_minor": 5
}
